{
 "cells": [
  {
   "cell_type": "code",
   "execution_count": 150,
   "metadata": {},
   "outputs": [],
   "source": [
    "import pandas as pd\n",
    "import matplotlib.pyplot as plt\n",
    "import seaborn\n",
    "import re"
   ]
  },
  {
   "cell_type": "markdown",
   "metadata": {},
   "source": [
    "#### Import the data and get a high-level picture"
   ]
  },
  {
   "cell_type": "code",
   "execution_count": 151,
   "metadata": {},
   "outputs": [
    {
     "data": {
      "text/html": [
       "<div>\n",
       "<style scoped>\n",
       "    .dataframe tbody tr th:only-of-type {\n",
       "        vertical-align: middle;\n",
       "    }\n",
       "\n",
       "    .dataframe tbody tr th {\n",
       "        vertical-align: top;\n",
       "    }\n",
       "\n",
       "    .dataframe thead th {\n",
       "        text-align: right;\n",
       "    }\n",
       "</style>\n",
       "<table border=\"1\" class=\"dataframe\">\n",
       "  <thead>\n",
       "    <tr style=\"text-align: right;\">\n",
       "      <th></th>\n",
       "      <th>order_id</th>\n",
       "      <th>name</th>\n",
       "      <th>ordered_at</th>\n",
       "      <th>price</th>\n",
       "      <th>quantity</th>\n",
       "      <th>line_total</th>\n",
       "    </tr>\n",
       "  </thead>\n",
       "  <tbody>\n",
       "    <tr>\n",
       "      <th>0</th>\n",
       "      <td>10000</td>\n",
       "      <td>\"ICE CREAM\" Peanut Fudge</td>\n",
       "      <td>2018-01-01 11:30:00</td>\n",
       "      <td>$3.50</td>\n",
       "      <td>3</td>\n",
       "      <td>$10.50</td>\n",
       "    </tr>\n",
       "    <tr>\n",
       "      <th>1</th>\n",
       "      <td>10000</td>\n",
       "      <td>\"ICE CREAM\" Peanut Fudge</td>\n",
       "      <td>2018-01-01 11:30:00</td>\n",
       "      <td>$3.50</td>\n",
       "      <td>1</td>\n",
       "      <td>$3.50</td>\n",
       "    </tr>\n",
       "    <tr>\n",
       "      <th>2</th>\n",
       "      <td>10001</td>\n",
       "      <td>\"SORBET\" Raspberry</td>\n",
       "      <td>2018-01-01 12:14:54</td>\n",
       "      <td>$2.50</td>\n",
       "      <td>2</td>\n",
       "      <td>$5.00</td>\n",
       "    </tr>\n",
       "    <tr>\n",
       "      <th>3</th>\n",
       "      <td>10001</td>\n",
       "      <td>NaN</td>\n",
       "      <td>2018-01-01 12:14:54</td>\n",
       "      <td>$1.50</td>\n",
       "      <td>1</td>\n",
       "      <td>$1.50</td>\n",
       "    </tr>\n",
       "    <tr>\n",
       "      <th>4</th>\n",
       "      <td>10001</td>\n",
       "      <td>\"CONE\" Dipped Waffle Cone</td>\n",
       "      <td>2018-01-01 12:14:54</td>\n",
       "      <td>$3.50</td>\n",
       "      <td>1</td>\n",
       "      <td>$3.50</td>\n",
       "    </tr>\n",
       "  </tbody>\n",
       "</table>\n",
       "</div>"
      ],
      "text/plain": [
       "   order_id                       name           ordered_at  price  quantity  \\\n",
       "0     10000   \"ICE CREAM\" Peanut Fudge  2018-01-01 11:30:00  $3.50         3   \n",
       "1     10000   \"ICE CREAM\" Peanut Fudge  2018-01-01 11:30:00  $3.50         1   \n",
       "2     10001         \"SORBET\" Raspberry  2018-01-01 12:14:54  $2.50         2   \n",
       "3     10001                        NaN  2018-01-01 12:14:54  $1.50         1   \n",
       "4     10001  \"CONE\" Dipped Waffle Cone  2018-01-01 12:14:54  $3.50         1   \n",
       "\n",
       "  line_total  \n",
       "0     $10.50  \n",
       "1      $3.50  \n",
       "2      $5.00  \n",
       "3      $1.50  \n",
       "4      $3.50  "
      ]
     },
     "execution_count": 151,
     "metadata": {},
     "output_type": "execute_result"
    }
   ],
   "source": [
    "df = pd.read_csv('sales.csv')\n",
    "df.head()"
   ]
  },
  {
   "cell_type": "code",
   "execution_count": 152,
   "metadata": {},
   "outputs": [
    {
     "data": {
      "text/plain": [
       "(29922, 6)"
      ]
     },
     "execution_count": 152,
     "metadata": {},
     "output_type": "execute_result"
    }
   ],
   "source": [
    "df.shape"
   ]
  },
  {
   "cell_type": "code",
   "execution_count": 153,
   "metadata": {},
   "outputs": [
    {
     "data": {
      "text/plain": [
       "order_id       int64\n",
       "name          object\n",
       "ordered_at    object\n",
       "price         object\n",
       "quantity       int64\n",
       "line_total    object\n",
       "dtype: object"
      ]
     },
     "execution_count": 153,
     "metadata": {},
     "output_type": "execute_result"
    }
   ],
   "source": [
    "df.dtypes"
   ]
  },
  {
   "cell_type": "markdown",
   "metadata": {},
   "source": [
    "#### TODO: Fix column datatypes\n",
    "\n",
    "Change ordered_at to datetime\n",
    "\n",
    "Change price and line_total to float"
   ]
  },
  {
   "cell_type": "code",
   "execution_count": 154,
   "metadata": {},
   "outputs": [],
   "source": [
    "# TODO: Change ordered_at to datetime\n",
    "df[\"ordered_at\"] = pd.to_datetime(df[\"ordered_at\"])"
   ]
  },
  {
   "cell_type": "code",
   "execution_count": 155,
   "metadata": {},
   "outputs": [],
   "source": [
    "# TODO: Change price and line_total to float\n",
    "for column in ['price', 'line_total']:\n",
    "    df[column] = df[column].apply(lambda x: pd.to_numeric(x[1:]))"
   ]
  },
  {
   "cell_type": "code",
   "execution_count": 156,
   "metadata": {},
   "outputs": [
    {
     "data": {
      "text/plain": [
       "order_id               int64\n",
       "name                  object\n",
       "ordered_at    datetime64[ns]\n",
       "price                float64\n",
       "quantity               int64\n",
       "line_total           float64\n",
       "dtype: object"
      ]
     },
     "execution_count": 156,
     "metadata": {},
     "output_type": "execute_result"
    }
   ],
   "source": [
    "df.dtypes"
   ]
  },
  {
   "cell_type": "markdown",
   "metadata": {},
   "source": [
    "#### TODO: drop if duplicated or null"
   ]
  },
  {
   "cell_type": "code",
   "execution_count": 157,
   "metadata": {},
   "outputs": [
    {
     "data": {
      "text/plain": [
       "538"
      ]
     },
     "execution_count": 157,
     "metadata": {},
     "output_type": "execute_result"
    }
   ],
   "source": [
    "df[df.duplicated()].shape[0]"
   ]
  },
  {
   "cell_type": "code",
   "execution_count": 158,
   "metadata": {},
   "outputs": [
    {
     "data": {
      "text/html": [
       "<div>\n",
       "<style scoped>\n",
       "    .dataframe tbody tr th:only-of-type {\n",
       "        vertical-align: middle;\n",
       "    }\n",
       "\n",
       "    .dataframe tbody tr th {\n",
       "        vertical-align: top;\n",
       "    }\n",
       "\n",
       "    .dataframe thead th {\n",
       "        text-align: right;\n",
       "    }\n",
       "</style>\n",
       "<table border=\"1\" class=\"dataframe\">\n",
       "  <thead>\n",
       "    <tr style=\"text-align: right;\">\n",
       "      <th></th>\n",
       "      <th>order_id</th>\n",
       "      <th>name</th>\n",
       "      <th>ordered_at</th>\n",
       "      <th>price</th>\n",
       "      <th>quantity</th>\n",
       "      <th>line_total</th>\n",
       "    </tr>\n",
       "  </thead>\n",
       "  <tbody>\n",
       "    <tr>\n",
       "      <th>0</th>\n",
       "      <td>10000</td>\n",
       "      <td>\"ICE CREAM\" Peanut Fudge</td>\n",
       "      <td>2018-01-01 11:30:00</td>\n",
       "      <td>3.5</td>\n",
       "      <td>3</td>\n",
       "      <td>10.5</td>\n",
       "    </tr>\n",
       "    <tr>\n",
       "      <th>1</th>\n",
       "      <td>10000</td>\n",
       "      <td>\"ICE CREAM\" Peanut Fudge</td>\n",
       "      <td>2018-01-01 11:30:00</td>\n",
       "      <td>3.5</td>\n",
       "      <td>1</td>\n",
       "      <td>3.5</td>\n",
       "    </tr>\n",
       "    <tr>\n",
       "      <th>2</th>\n",
       "      <td>10001</td>\n",
       "      <td>\"SORBET\" Raspberry</td>\n",
       "      <td>2018-01-01 12:14:54</td>\n",
       "      <td>2.5</td>\n",
       "      <td>2</td>\n",
       "      <td>5.0</td>\n",
       "    </tr>\n",
       "    <tr>\n",
       "      <th>3</th>\n",
       "      <td>10001</td>\n",
       "      <td>NaN</td>\n",
       "      <td>2018-01-01 12:14:54</td>\n",
       "      <td>1.5</td>\n",
       "      <td>1</td>\n",
       "      <td>1.5</td>\n",
       "    </tr>\n",
       "    <tr>\n",
       "      <th>4</th>\n",
       "      <td>10001</td>\n",
       "      <td>\"CONE\" Dipped Waffle Cone</td>\n",
       "      <td>2018-01-01 12:14:54</td>\n",
       "      <td>3.5</td>\n",
       "      <td>1</td>\n",
       "      <td>3.5</td>\n",
       "    </tr>\n",
       "    <tr>\n",
       "      <th>...</th>\n",
       "      <td>...</td>\n",
       "      <td>...</td>\n",
       "      <td>...</td>\n",
       "      <td>...</td>\n",
       "      <td>...</td>\n",
       "      <td>...</td>\n",
       "    </tr>\n",
       "    <tr>\n",
       "      <th>29817</th>\n",
       "      <td>19997</td>\n",
       "      <td>\"CONE\" Waffle Cone</td>\n",
       "      <td>2018-07-28 17:40:40</td>\n",
       "      <td>4.0</td>\n",
       "      <td>3</td>\n",
       "      <td>12.0</td>\n",
       "    </tr>\n",
       "    <tr>\n",
       "      <th>29818</th>\n",
       "      <td>19997</td>\n",
       "      <td>\"SORBET\" Blood Orange</td>\n",
       "      <td>2018-07-28 17:40:40</td>\n",
       "      <td>2.5</td>\n",
       "      <td>3</td>\n",
       "      <td>7.5</td>\n",
       "    </tr>\n",
       "    <tr>\n",
       "      <th>29819</th>\n",
       "      <td>19998</td>\n",
       "      <td>\"SORBET\" Lychee</td>\n",
       "      <td>2018-07-28 18:21:44</td>\n",
       "      <td>3.0</td>\n",
       "      <td>1</td>\n",
       "      <td>3.0</td>\n",
       "    </tr>\n",
       "    <tr>\n",
       "      <th>29820</th>\n",
       "      <td>19998</td>\n",
       "      <td>\"ICE CREAM\" Rocky Road</td>\n",
       "      <td>2018-07-28 18:21:44</td>\n",
       "      <td>3.5</td>\n",
       "      <td>1</td>\n",
       "      <td>3.5</td>\n",
       "    </tr>\n",
       "    <tr>\n",
       "      <th>29821</th>\n",
       "      <td>19999</td>\n",
       "      <td>\"SORBET\" Blood Orange</td>\n",
       "      <td>2018-07-28 18:51:57</td>\n",
       "      <td>2.5</td>\n",
       "      <td>2</td>\n",
       "      <td>5.0</td>\n",
       "    </tr>\n",
       "  </tbody>\n",
       "</table>\n",
       "<p>29384 rows × 6 columns</p>\n",
       "</div>"
      ],
      "text/plain": [
       "       order_id                       name          ordered_at  price  \\\n",
       "0         10000   \"ICE CREAM\" Peanut Fudge 2018-01-01 11:30:00    3.5   \n",
       "1         10000   \"ICE CREAM\" Peanut Fudge 2018-01-01 11:30:00    3.5   \n",
       "2         10001         \"SORBET\" Raspberry 2018-01-01 12:14:54    2.5   \n",
       "3         10001                        NaN 2018-01-01 12:14:54    1.5   \n",
       "4         10001  \"CONE\" Dipped Waffle Cone 2018-01-01 12:14:54    3.5   \n",
       "...         ...                        ...                 ...    ...   \n",
       "29817     19997         \"CONE\" Waffle Cone 2018-07-28 17:40:40    4.0   \n",
       "29818     19997      \"SORBET\" Blood Orange 2018-07-28 17:40:40    2.5   \n",
       "29819     19998            \"SORBET\" Lychee 2018-07-28 18:21:44    3.0   \n",
       "29820     19998     \"ICE CREAM\" Rocky Road 2018-07-28 18:21:44    3.5   \n",
       "29821     19999      \"SORBET\" Blood Orange 2018-07-28 18:51:57    2.5   \n",
       "\n",
       "       quantity  line_total  \n",
       "0             3        10.5  \n",
       "1             1         3.5  \n",
       "2             2         5.0  \n",
       "3             1         1.5  \n",
       "4             1         3.5  \n",
       "...         ...         ...  \n",
       "29817         3        12.0  \n",
       "29818         3         7.5  \n",
       "29819         1         3.0  \n",
       "29820         1         3.5  \n",
       "29821         2         5.0  \n",
       "\n",
       "[29384 rows x 6 columns]"
      ]
     },
     "execution_count": 158,
     "metadata": {},
     "output_type": "execute_result"
    }
   ],
   "source": [
    "# TODO: use drop_duplicates() here\n",
    "df.drop_duplicates()"
   ]
  },
  {
   "cell_type": "code",
   "execution_count": 159,
   "metadata": {},
   "outputs": [
    {
     "data": {
      "text/plain": [
       "order_id         0\n",
       "name          1488\n",
       "ordered_at       0\n",
       "price            0\n",
       "quantity         0\n",
       "line_total       0\n",
       "dtype: int64"
      ]
     },
     "execution_count": 159,
     "metadata": {},
     "output_type": "execute_result"
    }
   ],
   "source": [
    "df.isnull().sum()"
   ]
  },
  {
   "cell_type": "code",
   "execution_count": 160,
   "metadata": {},
   "outputs": [
    {
     "data": {
      "text/html": [
       "<div>\n",
       "<style scoped>\n",
       "    .dataframe tbody tr th:only-of-type {\n",
       "        vertical-align: middle;\n",
       "    }\n",
       "\n",
       "    .dataframe tbody tr th {\n",
       "        vertical-align: top;\n",
       "    }\n",
       "\n",
       "    .dataframe thead th {\n",
       "        text-align: right;\n",
       "    }\n",
       "</style>\n",
       "<table border=\"1\" class=\"dataframe\">\n",
       "  <thead>\n",
       "    <tr style=\"text-align: right;\">\n",
       "      <th></th>\n",
       "      <th>order_id</th>\n",
       "      <th>name</th>\n",
       "      <th>ordered_at</th>\n",
       "      <th>price</th>\n",
       "      <th>quantity</th>\n",
       "      <th>line_total</th>\n",
       "    </tr>\n",
       "  </thead>\n",
       "  <tbody>\n",
       "    <tr>\n",
       "      <th>3</th>\n",
       "      <td>10001</td>\n",
       "      <td>NaN</td>\n",
       "      <td>2018-01-01 12:14:54</td>\n",
       "      <td>1.5</td>\n",
       "      <td>1</td>\n",
       "      <td>1.5</td>\n",
       "    </tr>\n",
       "    <tr>\n",
       "      <th>6</th>\n",
       "      <td>10002</td>\n",
       "      <td>NaN</td>\n",
       "      <td>2018-01-01 12:23:09</td>\n",
       "      <td>3.0</td>\n",
       "      <td>3</td>\n",
       "      <td>9.0</td>\n",
       "    </tr>\n",
       "    <tr>\n",
       "      <th>27</th>\n",
       "      <td>10007</td>\n",
       "      <td>NaN</td>\n",
       "      <td>2018-01-01 15:03:17</td>\n",
       "      <td>2.5</td>\n",
       "      <td>1</td>\n",
       "      <td>2.5</td>\n",
       "    </tr>\n",
       "    <tr>\n",
       "      <th>77</th>\n",
       "      <td>10026</td>\n",
       "      <td>NaN</td>\n",
       "      <td>2018-01-02 03:25:40</td>\n",
       "      <td>0.5</td>\n",
       "      <td>2</td>\n",
       "      <td>1.0</td>\n",
       "    </tr>\n",
       "    <tr>\n",
       "      <th>88</th>\n",
       "      <td>10031</td>\n",
       "      <td>NaN</td>\n",
       "      <td>2018-01-02 05:45:48</td>\n",
       "      <td>3.5</td>\n",
       "      <td>3</td>\n",
       "      <td>10.5</td>\n",
       "    </tr>\n",
       "  </tbody>\n",
       "</table>\n",
       "</div>"
      ],
      "text/plain": [
       "    order_id name          ordered_at  price  quantity  line_total\n",
       "3      10001  NaN 2018-01-01 12:14:54    1.5         1         1.5\n",
       "6      10002  NaN 2018-01-01 12:23:09    3.0         3         9.0\n",
       "27     10007  NaN 2018-01-01 15:03:17    2.5         1         2.5\n",
       "77     10026  NaN 2018-01-02 03:25:40    0.5         2         1.0\n",
       "88     10031  NaN 2018-01-02 05:45:48    3.5         3        10.5"
      ]
     },
     "execution_count": 160,
     "metadata": {},
     "output_type": "execute_result"
    }
   ],
   "source": [
    "df[df['name'].isnull()].head()"
   ]
  },
  {
   "cell_type": "code",
   "execution_count": 161,
   "metadata": {},
   "outputs": [],
   "source": [
    "# TODO: use drop.na() here, remember to do it \"in place\"\n",
    "df.dropna(inplace = True)"
   ]
  },
  {
   "cell_type": "markdown",
   "metadata": {},
   "source": [
    "#### Sanity check for value ranges and to check assumptions"
   ]
  },
  {
   "cell_type": "code",
   "execution_count": 162,
   "metadata": {},
   "outputs": [
    {
     "data": {
      "text/plain": [
       "29"
      ]
     },
     "execution_count": 162,
     "metadata": {},
     "output_type": "execute_result"
    }
   ],
   "source": [
    "df[(df['price'] * df['quantity']) != df['line_total']].shape[0]"
   ]
  },
  {
   "cell_type": "code",
   "execution_count": 163,
   "metadata": {},
   "outputs": [
    {
     "data": {
      "text/plain": [
       "282"
      ]
     },
     "execution_count": 163,
     "metadata": {},
     "output_type": "execute_result"
    }
   ],
   "source": [
    "df[df['line_total'] < 0].shape[0]"
   ]
  },
  {
   "cell_type": "markdown",
   "metadata": {},
   "source": [
    "#### TODO: \n",
    "Set line_total = price * quantity if different.\n",
    "\n",
    "Then remove if line total < 0"
   ]
  },
  {
   "cell_type": "code",
   "execution_count": 164,
   "metadata": {},
   "outputs": [],
   "source": [
    "# TODO: Set line_total = price * quantity.\n",
    "df = df[(df['price'] * df['quantity']) == df['line_total']]"
   ]
  },
  {
   "cell_type": "code",
   "execution_count": 165,
   "metadata": {},
   "outputs": [],
   "source": [
    "# TODO: Then remove if line total < 0\n",
    "df = df[df['line_total'] >= 0]"
   ]
  },
  {
   "cell_type": "code",
   "execution_count": 166,
   "metadata": {},
   "outputs": [
    {
     "data": {
      "text/html": [
       "<div>\n",
       "<style scoped>\n",
       "    .dataframe tbody tr th:only-of-type {\n",
       "        vertical-align: middle;\n",
       "    }\n",
       "\n",
       "    .dataframe tbody tr th {\n",
       "        vertical-align: top;\n",
       "    }\n",
       "\n",
       "    .dataframe thead th {\n",
       "        text-align: right;\n",
       "    }\n",
       "</style>\n",
       "<table border=\"1\" class=\"dataframe\">\n",
       "  <thead>\n",
       "    <tr style=\"text-align: right;\">\n",
       "      <th></th>\n",
       "      <th>order_id</th>\n",
       "      <th>price</th>\n",
       "      <th>quantity</th>\n",
       "      <th>line_total</th>\n",
       "    </tr>\n",
       "  </thead>\n",
       "  <tbody>\n",
       "    <tr>\n",
       "      <th>count</th>\n",
       "      <td>28123.000000</td>\n",
       "      <td>28123.000000</td>\n",
       "      <td>28123.000000</td>\n",
       "      <td>28123.000000</td>\n",
       "    </tr>\n",
       "    <tr>\n",
       "      <th>mean</th>\n",
       "      <td>14991.608185</td>\n",
       "      <td>2.510187</td>\n",
       "      <td>2.001849</td>\n",
       "      <td>5.028126</td>\n",
       "    </tr>\n",
       "    <tr>\n",
       "      <th>std</th>\n",
       "      <td>2888.720159</td>\n",
       "      <td>1.059949</td>\n",
       "      <td>0.819537</td>\n",
       "      <td>3.086370</td>\n",
       "    </tr>\n",
       "    <tr>\n",
       "      <th>min</th>\n",
       "      <td>10000.000000</td>\n",
       "      <td>0.500000</td>\n",
       "      <td>1.000000</td>\n",
       "      <td>0.500000</td>\n",
       "    </tr>\n",
       "    <tr>\n",
       "      <th>25%</th>\n",
       "      <td>12499.000000</td>\n",
       "      <td>1.500000</td>\n",
       "      <td>1.000000</td>\n",
       "      <td>2.500000</td>\n",
       "    </tr>\n",
       "    <tr>\n",
       "      <th>50%</th>\n",
       "      <td>14966.000000</td>\n",
       "      <td>2.500000</td>\n",
       "      <td>2.000000</td>\n",
       "      <td>4.500000</td>\n",
       "    </tr>\n",
       "    <tr>\n",
       "      <th>75%</th>\n",
       "      <td>17504.500000</td>\n",
       "      <td>3.500000</td>\n",
       "      <td>3.000000</td>\n",
       "      <td>7.500000</td>\n",
       "    </tr>\n",
       "    <tr>\n",
       "      <th>max</th>\n",
       "      <td>19999.000000</td>\n",
       "      <td>4.000000</td>\n",
       "      <td>3.000000</td>\n",
       "      <td>12.000000</td>\n",
       "    </tr>\n",
       "  </tbody>\n",
       "</table>\n",
       "</div>"
      ],
      "text/plain": [
       "           order_id         price      quantity    line_total\n",
       "count  28123.000000  28123.000000  28123.000000  28123.000000\n",
       "mean   14991.608185      2.510187      2.001849      5.028126\n",
       "std     2888.720159      1.059949      0.819537      3.086370\n",
       "min    10000.000000      0.500000      1.000000      0.500000\n",
       "25%    12499.000000      1.500000      1.000000      2.500000\n",
       "50%    14966.000000      2.500000      2.000000      4.500000\n",
       "75%    17504.500000      3.500000      3.000000      7.500000\n",
       "max    19999.000000      4.000000      3.000000     12.000000"
      ]
     },
     "execution_count": 166,
     "metadata": {},
     "output_type": "execute_result"
    }
   ],
   "source": [
    "df.describe()"
   ]
  },
  {
   "cell_type": "markdown",
   "metadata": {},
   "source": [
    "#### TODO: Get value between \"\" in name and put it in category column"
   ]
  },
  {
   "cell_type": "code",
   "execution_count": 167,
   "metadata": {},
   "outputs": [],
   "source": [
    "# TODO\n",
    "pattern = r'^\"([A-Z ]+)\" (.*)'\n",
    "transform_func = lambda x: re.findall(pattern, x)[0]\n",
    "\n",
    "df[['category', 'name']] = df['name'] \\\n",
    "    .apply(transform_func) \\\n",
    "    .apply(pd.Series)"
   ]
  },
  {
   "cell_type": "code",
   "execution_count": 168,
   "metadata": {
    "scrolled": true
   },
   "outputs": [
    {
     "data": {
      "text/html": [
       "<div>\n",
       "<style scoped>\n",
       "    .dataframe tbody tr th:only-of-type {\n",
       "        vertical-align: middle;\n",
       "    }\n",
       "\n",
       "    .dataframe tbody tr th {\n",
       "        vertical-align: top;\n",
       "    }\n",
       "\n",
       "    .dataframe thead th {\n",
       "        text-align: right;\n",
       "    }\n",
       "</style>\n",
       "<table border=\"1\" class=\"dataframe\">\n",
       "  <thead>\n",
       "    <tr style=\"text-align: right;\">\n",
       "      <th></th>\n",
       "      <th>order_id</th>\n",
       "      <th>name</th>\n",
       "      <th>ordered_at</th>\n",
       "      <th>price</th>\n",
       "      <th>quantity</th>\n",
       "      <th>line_total</th>\n",
       "      <th>category</th>\n",
       "    </tr>\n",
       "  </thead>\n",
       "  <tbody>\n",
       "    <tr>\n",
       "      <th>0</th>\n",
       "      <td>10000</td>\n",
       "      <td>Peanut Fudge</td>\n",
       "      <td>2018-01-01 11:30:00</td>\n",
       "      <td>3.5</td>\n",
       "      <td>3</td>\n",
       "      <td>10.5</td>\n",
       "      <td>ICE CREAM</td>\n",
       "    </tr>\n",
       "    <tr>\n",
       "      <th>1</th>\n",
       "      <td>10000</td>\n",
       "      <td>Peanut Fudge</td>\n",
       "      <td>2018-01-01 11:30:00</td>\n",
       "      <td>3.5</td>\n",
       "      <td>1</td>\n",
       "      <td>3.5</td>\n",
       "      <td>ICE CREAM</td>\n",
       "    </tr>\n",
       "    <tr>\n",
       "      <th>2</th>\n",
       "      <td>10001</td>\n",
       "      <td>Raspberry</td>\n",
       "      <td>2018-01-01 12:14:54</td>\n",
       "      <td>2.5</td>\n",
       "      <td>2</td>\n",
       "      <td>5.0</td>\n",
       "      <td>SORBET</td>\n",
       "    </tr>\n",
       "    <tr>\n",
       "      <th>4</th>\n",
       "      <td>10001</td>\n",
       "      <td>Dipped Waffle Cone</td>\n",
       "      <td>2018-01-01 12:14:54</td>\n",
       "      <td>3.5</td>\n",
       "      <td>1</td>\n",
       "      <td>3.5</td>\n",
       "      <td>CONE</td>\n",
       "    </tr>\n",
       "    <tr>\n",
       "      <th>5</th>\n",
       "      <td>10002</td>\n",
       "      <td>Lychee</td>\n",
       "      <td>2018-01-01 12:23:09</td>\n",
       "      <td>3.0</td>\n",
       "      <td>1</td>\n",
       "      <td>3.0</td>\n",
       "      <td>SORBET</td>\n",
       "    </tr>\n",
       "  </tbody>\n",
       "</table>\n",
       "</div>"
      ],
      "text/plain": [
       "   order_id                name          ordered_at  price  quantity  \\\n",
       "0     10000        Peanut Fudge 2018-01-01 11:30:00    3.5         3   \n",
       "1     10000        Peanut Fudge 2018-01-01 11:30:00    3.5         1   \n",
       "2     10001           Raspberry 2018-01-01 12:14:54    2.5         2   \n",
       "4     10001  Dipped Waffle Cone 2018-01-01 12:14:54    3.5         1   \n",
       "5     10002              Lychee 2018-01-01 12:23:09    3.0         1   \n",
       "\n",
       "   line_total   category  \n",
       "0        10.5  ICE CREAM  \n",
       "1         3.5  ICE CREAM  \n",
       "2         5.0     SORBET  \n",
       "4         3.5       CONE  \n",
       "5         3.0     SORBET  "
      ]
     },
     "execution_count": 168,
     "metadata": {},
     "output_type": "execute_result"
    }
   ],
   "source": [
    "df.head()"
   ]
  },
  {
   "cell_type": "code",
   "execution_count": 173,
   "metadata": {},
   "outputs": [],
   "source": [
    "colours = ['cyan','red','purple','orange','green','blue','yellow','brown','grey','indigo']"
   ]
  },
  {
   "cell_type": "markdown",
   "metadata": {},
   "source": [
    "#### Analysis, finally!"
   ]
  },
  {
   "cell_type": "code",
   "execution_count": 174,
   "metadata": {},
   "outputs": [
    {
     "data": {
      "image/png": "[encoded data removed]",
      "text/plain": [
       "<Figure size 1000x600 with 1 Axes>"
      ]
     },
     "metadata": {},
     "output_type": "display_data"
    }
   ],
   "source": [
    "f, ax = plt.subplots(figsize=(10, 6))\n",
    "df.groupby('name')['line_total'].sum().sort_values(ascending=False).head(10).plot(kind='bar', color = colours)\n",
    "f.autofmt_xdate()\n",
    "plt.show()"
   ]
  },
  {
   "cell_type": "code",
   "execution_count": null,
   "metadata": {},
   "outputs": [],
   "source": []
  },
  {
   "cell_type": "code",
   "execution_count": null,
   "metadata": {},
   "outputs": [],
   "source": []
  },
  {
   "cell_type": "code",
   "execution_count": null,
   "metadata": {},
   "outputs": [],
   "source": []
  },
  {
   "cell_type": "code",
   "execution_count": null,
   "metadata": {},
   "outputs": [],
   "source": []
  }
 ],
 "metadata": {
  "kernelspec": {
   "display_name": "Python 3 (ipykernel)",
   "language": "python",
   "name": "python3"
  },
  "language_info": {
   "codemirror_mode": {
    "name": "ipython",
    "version": 3
   },
   "file_extension": ".py",
   "mimetype": "text/x-python",
   "name": "python",
   "nbconvert_exporter": "python",
   "pygments_lexer": "ipython3",
   "version": "3.11.3"
  }
 },
 "nbformat": 4,
 "nbformat_minor": 2
}
