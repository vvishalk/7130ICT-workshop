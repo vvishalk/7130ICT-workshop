{
 "cells": [
  {
   "cell_type": "markdown",
   "metadata": {},
   "source": [
    "# Topic Modelling for News"
   ]
  },
  {
   "cell_type": "markdown",
   "metadata": {},
   "source": [
    "![](https://images.unsplash.com/photo-1495020689067-958852a7765e?ixlib=rb-1.2.1&ixid=eyJhcHBfaWQiOjEyMDd9&auto=format&fit=crop&w=1050&q=80)\n",
    "\n",
    "Photo by [Roman Kraft](https://unsplash.com/photos/_Zua2hyvTBk)"
   ]
  },
  {
   "cell_type": "markdown",
   "metadata": {},
   "source": [
    "This exercise is about modelling the main topics of a database of News headlines."
   ]
  },
  {
   "cell_type": "markdown",
   "metadata": {},
   "source": [
    "Begin by importing the needed libraries:"
   ]
  },
  {
   "cell_type": "code",
   "execution_count": 1,
   "metadata": {},
   "outputs": [],
   "source": [
    "# TODO: import needed libraries\n",
    "import nltk \n",
    "import numpy as np\n",
    "import pandas as pd"
   ]
  },
  {
   "cell_type": "markdown",
   "metadata": {},
   "source": [
    "Load the data in the file `random_headlines.csv`"
   ]
  },
  {
   "cell_type": "code",
   "execution_count": 2,
   "metadata": {
    "scrolled": true
   },
   "outputs": [
    {
     "name": "stdout",
     "output_type": "stream",
     "text": [
      "(20000, 2)\n"
     ]
    },
    {
     "data": {
      "text/html": [
       "<div>\n",
       "<style scoped>\n",
       "    .dataframe tbody tr th:only-of-type {\n",
       "        vertical-align: middle;\n",
       "    }\n",
       "\n",
       "    .dataframe tbody tr th {\n",
       "        vertical-align: top;\n",
       "    }\n",
       "\n",
       "    .dataframe thead th {\n",
       "        text-align: right;\n",
       "    }\n",
       "</style>\n",
       "<table border=\"1\" class=\"dataframe\">\n",
       "  <thead>\n",
       "    <tr style=\"text-align: right;\">\n",
       "      <th></th>\n",
       "      <th>publish_date</th>\n",
       "      <th>headline_text</th>\n",
       "    </tr>\n",
       "  </thead>\n",
       "  <tbody>\n",
       "    <tr>\n",
       "      <th>0</th>\n",
       "      <td>20120305</td>\n",
       "      <td>ute driver hurt in intersection crash</td>\n",
       "    </tr>\n",
       "    <tr>\n",
       "      <th>1</th>\n",
       "      <td>20081128</td>\n",
       "      <td>6yo dies in cycling accident</td>\n",
       "    </tr>\n",
       "    <tr>\n",
       "      <th>2</th>\n",
       "      <td>20090325</td>\n",
       "      <td>bumper olive harvest expected</td>\n",
       "    </tr>\n",
       "    <tr>\n",
       "      <th>3</th>\n",
       "      <td>20100201</td>\n",
       "      <td>replica replaces northernmost sign</td>\n",
       "    </tr>\n",
       "    <tr>\n",
       "      <th>4</th>\n",
       "      <td>20080225</td>\n",
       "      <td>woods targets perfect season</td>\n",
       "    </tr>\n",
       "  </tbody>\n",
       "</table>\n",
       "</div>"
      ],
      "text/plain": [
       "   publish_date                          headline_text\n",
       "0      20120305  ute driver hurt in intersection crash\n",
       "1      20081128           6yo dies in cycling accident\n",
       "2      20090325          bumper olive harvest expected\n",
       "3      20100201     replica replaces northernmost sign\n",
       "4      20080225           woods targets perfect season"
      ]
     },
     "execution_count": 2,
     "metadata": {},
     "output_type": "execute_result"
    }
   ],
   "source": [
    "# TODO: load the dataset\n",
    "df = pd.read_csv('random_headlines.csv')\n",
    "print(df.shape)\n",
    "df.head()"
   ]
  },
  {
   "cell_type": "markdown",
   "metadata": {},
   "source": [
    "This is always a good idea to perform some EDA (exploratory data analytics) on a dataset..."
   ]
  },
  {
   "cell_type": "code",
   "execution_count": 3,
   "metadata": {},
   "outputs": [
    {
     "name": "stdout",
     "output_type": "stream",
     "text": [
      "<class 'pandas.core.frame.DataFrame'>\n",
      "RangeIndex: 20000 entries, 0 to 19999\n",
      "Data columns (total 2 columns):\n",
      " #   Column         Non-Null Count  Dtype \n",
      "---  ------         --------------  ----- \n",
      " 0   publish_date   20000 non-null  int64 \n",
      " 1   headline_text  20000 non-null  object\n",
      "dtypes: int64(1), object(1)\n",
      "memory usage: 312.6+ KB\n"
     ]
    }
   ],
   "source": [
    "# TODO: Perform a short EDA\n",
    "df.info()"
   ]
  },
  {
   "cell_type": "markdown",
   "metadata": {},
   "source": [
    "Now perform all the needed preprocessing on those headlines: case lowering, tokenization, punctuation removal, stopwords removal, stemming/lemmatization."
   ]
  },
  {
   "cell_type": "code",
   "execution_count": 6,
   "metadata": {},
   "outputs": [
    {
     "data": {
      "text/plain": [
       "0    [ute, driver, hurt, intersect, crash]\n",
       "1                       [die, cycl, accid]\n",
       "2          [bumper, oliv, harvest, expect]\n",
       "3    [replica, replac, northernmost, sign]\n",
       "4          [wood, target, perfect, season]\n",
       "Name: stemmed, dtype: object"
      ]
     },
     "execution_count": 6,
     "metadata": {},
     "output_type": "execute_result"
    }
   ],
   "source": [
    "# TODO: Preprocess the input data\n",
    "\n",
    "# tokenize\n",
    "df['tokens'] = df['headline_text'].apply(lambda row:nltk.word_tokenize(row))\n",
    "\n",
    "# punctuation\n",
    "df['alphanumeric'] = df['tokens'].apply(lambda row: [word for word in row if word.isalpha()])\n",
    "\n",
    "# remove stopwords\n",
    "stop = nltk.corpus.stopwords.words('english')\n",
    "df['stop'] = df['alphanumeric'].apply(lambda row: [word for word in row if word not in stop])\n",
    "\n",
    "# stemming\n",
    "stemmer = nltk.PorterStemmer()\n",
    "df['stemmed'] = df['stop'].apply(lambda row: [stemmer.stem(word) for word in row])\n",
    "\n",
    "df['stemmed'].head()"
   ]
  },
  {
   "cell_type": "code",
   "execution_count": 10,
   "metadata": {},
   "outputs": [
    {
     "name": "stdout",
     "output_type": "stream",
     "text": [
      "Requirement already satisfied: gensim in c:\\users\\nivet\\anaconda3\\lib\\site-packages (4.3.2)\n",
      "Requirement already satisfied: numpy>=1.18.5 in c:\\users\\nivet\\anaconda3\\lib\\site-packages (from gensim) (1.24.3)\n",
      "Requirement already satisfied: scipy>=1.7.0 in c:\\users\\nivet\\anaconda3\\lib\\site-packages (from gensim) (1.10.1)\n",
      "Requirement already satisfied: smart-open>=1.8.1 in c:\\users\\nivet\\anaconda3\\lib\\site-packages (from gensim) (5.2.1)\n"
     ]
    }
   ],
   "source": [
    "!pip install --upgrade --user gensim"
   ]
  },
  {
   "cell_type": "markdown",
   "metadata": {},
   "source": [
    "Now use Gensim to compute a BOW"
   ]
  },
  {
   "cell_type": "code",
   "execution_count": 20,
   "metadata": {},
   "outputs": [
    {
     "name": "stdout",
     "output_type": "stream",
     "text": [
      "20000\n"
     ]
    },
    {
     "data": {
      "text/plain": [
       "[[(0, 1), (1, 1), (2, 1), (3, 1), (4, 1)], [(5, 1), (6, 1), (7, 1)]]"
      ]
     },
     "execution_count": 20,
     "metadata": {},
     "output_type": "execute_result"
    }
   ],
   "source": [
    "# TODO: Compute the BOW using Gensim\n",
    "from gensim.corpora import Dictionary\n",
    "\n",
    "dictionary = Dictionary(df['stemmed'])\n",
    "corpus = [dictionary.doc2bow(line) for line in df['stemmed']]\n",
    "print(len(corpus))\n",
    "corpus[0:2]"
   ]
  },
  {
   "cell_type": "markdown",
   "metadata": {},
   "source": [
    "Compute the TF-IDF using Gensim"
   ]
  },
  {
   "cell_type": "code",
   "execution_count": 23,
   "metadata": {},
   "outputs": [
    {
     "name": "stdout",
     "output_type": "stream",
     "text": [
      "20000\n"
     ]
    }
   ],
   "source": [
    "# TODO: Compute TF-IDF\n",
    "from gensim.models import TfidfModel\n",
    "\n",
    "tfidf_model = TfidfModel(corpus)\n",
    "tf_idf = tfidf_model[corpus]\n",
    "print(len(tf_idf))"
   ]
  },
  {
   "cell_type": "markdown",
   "metadata": {},
   "source": [
    "Finally compute the **LSA** (also called LSI) using Gensim, for a given number of Topics that you choose yourself"
   ]
  },
  {
   "cell_type": "code",
   "execution_count": 24,
   "metadata": {},
   "outputs": [],
   "source": [
    "# TODO: Compute LSA\n",
    "from gensim.models import LsiModel\n",
    "\n",
    "lsi = LsiModel(corpus = corpus, num_topics = 4, id2word = dictionary)"
   ]
  },
  {
   "cell_type": "markdown",
   "metadata": {},
   "source": [
    "For each of the topic, show the most significant words."
   ]
  },
  {
   "cell_type": "code",
   "execution_count": 25,
   "metadata": {
    "scrolled": true
   },
   "outputs": [
    {
     "data": {
      "text/plain": [
       "[(0, '0.752*\"polic\" + 0.404*\"man\" + 0.208*\"charg\"'),\n",
       " (1, '-0.670*\"man\" + 0.574*\"polic\" + -0.330*\"charg\"'),\n",
       " (2, '-0.656*\"new\" + -0.296*\"plan\" + -0.242*\"say\"'),\n",
       " (3, '0.702*\"new\" + -0.344*\"say\" + -0.335*\"plan\"')]"
      ]
     },
     "execution_count": 25,
     "metadata": {},
     "output_type": "execute_result"
    }
   ],
   "source": [
    "# TODO: Print the 3 or 4 most significant words of each topic\n",
    "lsi.print_topics(num_words = 3)"
   ]
  },
  {
   "cell_type": "markdown",
   "metadata": {},
   "source": [
    "What do you think about those results?"
   ]
  },
  {
   "cell_type": "markdown",
   "metadata": {},
   "source": [
    "Terms like \"police\" and \"charged\" imply that the model has recognized themes linked to police actions, most likely including arrests or charges.\n",
    "Terms like \"new\" and \"plan\" seem to point toward a different group of issues that center on fresh approaches or plans.\n",
    "These seem to be two different sets of themes, one on law enforcement and the other about new efforts.\n",
    "It appears that the model has divided news stories into two primary groups: occurrences involving police and recent advancements.\n",
    "All things considered, the model has successfully divided the corpus, which facilitates comprehension of the primary topics found in the textual data."
   ]
  },
  {
   "cell_type": "markdown",
   "metadata": {},
   "source": [
    "Now let's try to use LDA instead of LSA using Gensim"
   ]
  },
  {
   "cell_type": "code",
   "execution_count": 29,
   "metadata": {},
   "outputs": [],
   "source": [
    "# TODO: Compute LDA\n",
    "from gensim.models import LdaModel\n",
    "\n",
    "lda = LdaModel(corpus = corpus, num_topics = 4, id2word = dictionary, random_state = 0, chunksize = 512, passes = 5)"
   ]
  },
  {
   "cell_type": "code",
   "execution_count": 30,
   "metadata": {
    "scrolled": true
   },
   "outputs": [
    {
     "data": {
      "text/plain": [
       "[(0, '0.016*\"report\" + 0.009*\"back\" + 0.009*\"may\"'),\n",
       " (1, '0.012*\"mine\" + 0.011*\"polic\" + 0.009*\"elect\"'),\n",
       " (2, '0.013*\"question\" + 0.010*\"council\" + 0.010*\"fund\"'),\n",
       " (3, '0.012*\"sydney\" + 0.012*\"charg\" + 0.011*\"australian\"')]"
      ]
     },
     "execution_count": 30,
     "metadata": {},
     "output_type": "execute_result"
    }
   ],
   "source": [
    "# TODO: print the most frequent words of each topic\n",
    "lda.print_topics(num_words = 3)"
   ]
  },
  {
   "cell_type": "code",
   "execution_count": 34,
   "metadata": {},
   "outputs": [
    {
     "name": "stdout",
     "output_type": "stream",
     "text": [
      "Requirement already satisfied: pyLDAvis in c:\\users\\nivet\\anaconda3\\lib\\site-packages (3.4.1)\n",
      "Requirement already satisfied: numpy>=1.24.2 in c:\\users\\nivet\\anaconda3\\lib\\site-packages (from pyLDAvis) (1.24.3)\n",
      "Requirement already satisfied: scipy in c:\\users\\nivet\\anaconda3\\lib\\site-packages (from pyLDAvis) (1.10.1)\n",
      "Requirement already satisfied: pandas>=2.0.0 in c:\\users\\nivet\\anaconda3\\lib\\site-packages (from pyLDAvis) (2.0.3)\n",
      "Requirement already satisfied: joblib>=1.2.0 in c:\\users\\nivet\\anaconda3\\lib\\site-packages (from pyLDAvis) (1.2.0)\n",
      "Requirement already satisfied: jinja2 in c:\\users\\nivet\\anaconda3\\lib\\site-packages (from pyLDAvis) (3.1.2)\n",
      "Requirement already satisfied: numexpr in c:\\users\\nivet\\anaconda3\\lib\\site-packages (from pyLDAvis) (2.8.4)\n",
      "Requirement already satisfied: funcy in c:\\users\\nivet\\anaconda3\\lib\\site-packages (from pyLDAvis) (2.0)\n",
      "Requirement already satisfied: scikit-learn>=1.0.0 in c:\\users\\nivet\\anaconda3\\lib\\site-packages (from pyLDAvis) (1.2.2)\n",
      "Requirement already satisfied: gensim in c:\\users\\nivet\\anaconda3\\lib\\site-packages (from pyLDAvis) (4.3.2)\n",
      "Requirement already satisfied: setuptools in c:\\users\\nivet\\anaconda3\\lib\\site-packages (from pyLDAvis) (67.8.0)\n",
      "Requirement already satisfied: python-dateutil>=2.8.2 in c:\\users\\nivet\\anaconda3\\lib\\site-packages (from pandas>=2.0.0->pyLDAvis) (2.8.2)\n",
      "Requirement already satisfied: pytz>=2020.1 in c:\\users\\nivet\\anaconda3\\lib\\site-packages (from pandas>=2.0.0->pyLDAvis) (2022.7)\n",
      "Requirement already satisfied: tzdata>=2022.1 in c:\\users\\nivet\\anaconda3\\lib\\site-packages (from pandas>=2.0.0->pyLDAvis) (2023.3)\n",
      "Requirement already satisfied: threadpoolctl>=2.0.0 in c:\\users\\nivet\\anaconda3\\lib\\site-packages (from scikit-learn>=1.0.0->pyLDAvis) (2.2.0)\n",
      "Requirement already satisfied: smart-open>=1.8.1 in c:\\users\\nivet\\anaconda3\\lib\\site-packages (from gensim->pyLDAvis) (5.2.1)\n",
      "Requirement already satisfied: MarkupSafe>=2.0 in c:\\users\\nivet\\anaconda3\\lib\\site-packages (from jinja2->pyLDAvis) (2.1.1)\n",
      "Requirement already satisfied: six>=1.5 in c:\\users\\nivet\\anaconda3\\lib\\site-packages (from python-dateutil>=2.8.2->pandas>=2.0.0->pyLDAvis) (1.16.0)\n"
     ]
    }
   ],
   "source": [
    "!pip install pyLDAvis"
   ]
  },
  {
   "cell_type": "markdown",
   "metadata": {},
   "source": [
    "Now, how does it work with LDA?"
   ]
  },
  {
   "cell_type": "markdown",
   "metadata": {},
   "source": [
    "Let's make some visualization of the LDA results using pyLDAvis."
   ]
  },
  {
   "cell_type": "code",
   "execution_count": 36,
   "metadata": {},
   "outputs": [
    {
     "data": {
      "text/html": [
       "\n",
       "<link rel=\"stylesheet\" type=\"text/css\" href=\"https://cdn.jsdelivr.net/gh/bmabey/pyLDAvis@3.4.0/pyLDAvis/js/ldavis.v1.0.0.css\">\n",
       "\n",
       "\n",
       "<div id=\"ldavis_el3298026741232990082119748415\" style=\"background-color:white;\"></div>\n",
       "<script type=\"text/javascript\">\n",
       "\n",
       "var ldavis_el3298026741232990082119748415_data = {\"mdsDat\": {\"x\": [-0.22849449507192818, -0.14962676324439736, 0.21956889379296382, 0.1585523645233617], \"y\": [-0.028622645804151185, -0.010718862891755413, -0.2357006398201205, 0.275042148516027], \"topics\": [1, 2, 3, 4], \"cluster\": [1, 1, 1, 1], \"Freq\": [26.894908210634767, 26.672351372051224, 23.918297014850758, 22.514443402463254]}, \"tinfo\": {\"Term\": [\"report\", \"question\", \"mine\", \"sydney\", \"charg\", \"council\", \"australian\", \"fund\", \"interview\", \"elect\", \"back\", \"win\", \"may\", \"labor\", \"trial\", \"union\", \"road\", \"cut\", \"call\", \"govern\", \"final\", \"lead\", \"stori\", \"begin\", \"want\", \"urg\", \"warn\", \"govt\", \"forc\", \"attack\", \"question\", \"council\", \"fund\", \"cut\", \"govern\", \"urg\", \"forc\", \"set\", \"want\", \"aussi\", \"support\", \"concern\", \"farmer\", \"approv\", \"group\", \"doctor\", \"claim\", \"hospit\", \"school\", \"mp\", \"citi\", \"coast\", \"team\", \"figur\", \"ban\", \"reduc\", \"titl\", \"men\", \"job\", \"seek\", \"disput\", \"draw\", \"next\", \"drug\", \"govt\", \"plan\", \"new\", \"say\", \"wa\", \"fear\", \"polic\", \"chang\", \"mine\", \"elect\", \"win\", \"road\", \"final\", \"warn\", \"commun\", \"club\", \"run\", \"rise\", \"station\", \"student\", \"drought\", \"perth\", \"woman\", \"rate\", \"found\", \"search\", \"debat\", \"stage\", \"fall\", \"turnbul\", \"held\", \"record\", \"minist\", \"world\", \"injuri\", \"telstra\", \"countri\", \"review\", \"qld\", \"econom\", \"friday\", \"eye\", \"debt\", \"polic\", \"call\", \"water\", \"help\", \"health\", \"take\", \"trade\", \"futur\", \"miss\", \"hit\", \"sydney\", \"charg\", \"australian\", \"interview\", \"trial\", \"stori\", \"lead\", \"murder\", \"market\", \"open\", \"shoot\", \"accus\", \"leav\", \"day\", \"test\", \"two\", \"busi\", \"success\", \"olymp\", \"bu\", \"risk\", \"point\", \"board\", \"arm\", \"pull\", \"full\", \"second\", \"appoint\", \"hope\", \"fourth\", \"latest\", \"sieg\", \"line\", \"sold\", \"man\", \"melbourn\", \"polic\", \"court\", \"us\", \"report\", \"back\", \"may\", \"labor\", \"union\", \"begin\", \"blaze\", \"car\", \"die\", \"drum\", \"work\", \"news\", \"pole\", \"dead\", \"judg\", \"abc\", \"great\", \"rural\", \"collaps\", \"resid\", \"state\", \"train\", \"garrett\", \"iraq\", \"pakistan\", \"big\", \"fail\", \"deni\", \"former\", \"bid\", \"italian\", \"singapor\", \"lock\", \"sunday\", \"paint\", \"attack\", \"pay\", \"crash\", \"call\", \"kill\", \"man\", \"us\"], \"Freq\": [373.0, 354.0, 336.0, 298.0, 284.0, 284.0, 259.0, 264.0, 229.0, 235.0, 203.0, 229.0, 202.0, 190.0, 195.0, 183.0, 206.0, 206.0, 366.0, 199.0, 195.0, 176.0, 175.0, 167.0, 188.0, 183.0, 179.0, 343.0, 180.0, 230.0, 353.68454889756504, 283.87015768619386, 264.18487564767366, 206.05884871043796, 198.97894000760135, 182.70429695409965, 179.8490671144299, 172.3329591593795, 187.9513439134888, 167.2002652986001, 162.5875054252749, 147.49806157121816, 142.86592591444315, 142.53703869364384, 135.91291060507507, 138.27968568106522, 132.4416516291306, 127.64868926052432, 120.17043346598003, 119.47561632962946, 124.83479356897001, 115.43681907068591, 125.00836615426431, 122.95922287049123, 112.6025839459744, 120.00874589374348, 135.00797928652617, 120.30634662070969, 107.58026009834757, 105.93106998912782, 112.26930248250939, 109.14909467063411, 109.46742029064049, 166.95521560234332, 232.09695932324095, 208.72651377106217, 221.35773861622928, 162.21346800351887, 147.63065977095442, 133.93701754772607, 172.33676236355797, 127.50513115144939, 335.95878596094417, 234.92294214393658, 228.4605882748609, 206.06478000926066, 194.36382106019644, 179.20480782398712, 147.21033547143503, 150.33771330940795, 155.47714476202538, 140.19484939234368, 137.63783140722413, 146.0195765989949, 152.7407910925141, 145.52940428784092, 127.9564185683581, 126.62511169258978, 120.22079917937627, 116.9884754342945, 111.62536495625342, 117.16429423301818, 109.05291599814835, 115.30181019798073, 113.86039676765586, 102.20255152387368, 102.14092957064656, 100.66040352960403, 116.17446931021375, 111.87380234708655, 95.2222343014628, 95.70109141525002, 167.02961723032954, 115.55361156640939, 111.96535605551021, 113.38136126111738, 104.5211539680801, 291.3565715622433, 185.10212813806902, 129.4304906145062, 137.64102973440774, 123.08720116456908, 125.75460603571148, 121.0196928889559, 121.71003460938299, 118.86386745912083, 118.59008555526687, 298.2017368782705, 283.70363027913004, 258.83857759758934, 229.10146178905597, 194.48896913118304, 175.10188799445189, 175.71945157362683, 163.8399969191834, 152.25944002043065, 146.6910952685809, 141.02693823439054, 136.2337988323981, 133.5431819796293, 130.03721803009063, 122.43157392610728, 121.84555926900062, 114.17414348974562, 110.27961702846059, 110.42935157202548, 104.84638073533425, 113.75325504517379, 103.390068323643, 104.27774598060566, 102.27567492500825, 97.0544597289398, 100.93210905951318, 93.29709851955899, 97.17985555319812, 95.8983477086204, 99.42385119337703, 101.51842080896819, 99.22108566563291, 99.90216987420933, 98.8728705801173, 229.19673701984385, 125.23373752905007, 217.1265376511354, 145.12004807728533, 113.43138976563046, 373.05894276498765, 202.4662509834768, 201.56238484797495, 189.3947939340905, 182.6027509413367, 166.6066414785903, 154.3231551222655, 134.54273409612625, 120.65986912220956, 121.3934146701436, 114.25396500496467, 109.06130062980276, 114.69028042237467, 106.26845172007735, 113.36776015173541, 101.14459320526726, 105.95944381605241, 93.38962311418658, 119.81743026019049, 90.92777804164533, 91.31957455081769, 89.96049478051674, 94.83102898346093, 79.60506221416163, 79.37383063907275, 75.22565578822615, 74.03145946895901, 72.51364865533431, 71.77295577361821, 71.99372180202546, 104.8521072318597, 103.55882165380076, 99.87804693764049, 96.69424048343048, 92.90562653702362, 187.18235800487238, 135.06776465128547, 156.60961355123993, 181.2073375464823, 143.07247732037288, 112.83752371312922, 100.27575922345714], \"Total\": [373.0, 354.0, 336.0, 298.0, 284.0, 284.0, 259.0, 264.0, 229.0, 235.0, 203.0, 229.0, 202.0, 190.0, 195.0, 183.0, 206.0, 206.0, 366.0, 199.0, 195.0, 176.0, 175.0, 167.0, 188.0, 183.0, 179.0, 343.0, 180.0, 230.0, 354.47107924200407, 284.57154654000175, 264.926649928857, 206.7794996272155, 199.69713154708361, 183.40412779351445, 180.57338870749487, 173.04704591114628, 188.74416158743173, 167.93043381753256, 163.31545515779857, 148.20130540205506, 143.56689750523478, 143.2639369525953, 136.6138203903352, 138.99761036430266, 133.1497300077868, 128.3578343504874, 120.87734770064426, 120.18352862764571, 125.58548675880277, 116.13274869928819, 125.76212164727264, 123.7241202608291, 113.30936500560897, 120.76317811708346, 135.86375505553988, 121.07765111712305, 108.27853495353642, 106.64294146736339, 113.04515172040321, 109.94148240989117, 110.35433857705556, 205.2545034029694, 343.37383937685576, 322.71707225868886, 442.18475809091075, 329.5406459093942, 254.59508825663036, 184.56352664907735, 698.418688626132, 169.20348041094556, 336.7068423952354, 235.64492262719028, 229.17801976774675, 206.7834436869552, 195.08219216639353, 179.92248117409773, 147.92024539910238, 151.07908446207182, 156.254441803573, 140.89827417677873, 138.35864941844903, 146.7895039110048, 153.54933394212395, 146.3035662211, 128.67173662874515, 127.35004090462013, 120.93393616857573, 117.69716938217435, 112.33088398155063, 117.90784980198679, 109.76458604283877, 116.0641214279018, 114.63043609880305, 102.91155910340709, 102.84965483922691, 101.36773698334626, 117.00928217356014, 112.69542857877516, 95.92298365820274, 96.41390805981248, 168.44570388887124, 116.47252286441253, 112.87888817103178, 114.37914651566746, 105.56566703592367, 698.418688626132, 366.78566592590226, 180.51462277444077, 224.35734778145476, 164.404784136016, 195.05123764878113, 161.48882121351173, 176.4841430843334, 166.2014805109331, 182.08867101887307, 298.9279433235051, 284.4208549843101, 259.6103476920719, 229.81030274226785, 195.2242082961064, 175.8351744323755, 176.4599546353633, 164.55434853399652, 152.98381924459318, 147.41862993488868, 141.75587751256663, 136.9604875324616, 134.2687918693713, 130.75486366460348, 123.15279120540286, 122.57636846123232, 114.90573306554096, 111.01011985492347, 111.17555428585635, 105.57995434387684, 114.57223128540865, 104.1486056755895, 105.04399911407104, 103.03001182852672, 97.77326741306183, 101.69253218807143, 94.00789410821362, 97.92277401695563, 96.63194637926682, 100.18968490312179, 102.32213511598724, 99.99687097784442, 100.73008968447068, 99.84094642909322, 385.3765284608703, 150.84799377723795, 698.418688626132, 257.289057463504, 214.1883446020351, 373.7793445381385, 203.17087283252854, 202.2656871323506, 190.15049849519502, 183.34171863639804, 167.31987989054346, 155.06288220154582, 135.23806638865892, 121.34879028663633, 122.0940012479102, 114.95341052155874, 109.7481350639795, 115.41274695614483, 106.96600499387995, 114.11668264117161, 101.8291989251887, 106.67840344243768, 94.07976816452215, 120.70827498396983, 91.62644456794472, 92.02607795147269, 90.66748863179673, 95.60821237759916, 80.29610805774398, 80.08261794188108, 75.93243151626515, 74.72853779578602, 73.21424579238774, 72.47276563327671, 72.7023113465478, 105.94181862604017, 104.63461078600123, 101.02573333966367, 97.94350799438622, 94.82569578592901, 230.0118824854204, 162.4213605326821, 201.3611937129019, 366.78566592590226, 228.62705115450285, 385.3765284608703, 214.1883446020351], \"Category\": [\"Default\", \"Default\", \"Default\", \"Default\", \"Default\", \"Default\", \"Default\", \"Default\", \"Default\", \"Default\", \"Default\", \"Default\", \"Default\", \"Default\", \"Default\", \"Default\", \"Default\", \"Default\", \"Default\", \"Default\", \"Default\", \"Default\", \"Default\", \"Default\", \"Default\", \"Default\", \"Default\", \"Default\", \"Default\", \"Default\", \"Topic1\", \"Topic1\", \"Topic1\", \"Topic1\", \"Topic1\", \"Topic1\", \"Topic1\", \"Topic1\", \"Topic1\", \"Topic1\", \"Topic1\", \"Topic1\", \"Topic1\", \"Topic1\", \"Topic1\", \"Topic1\", \"Topic1\", \"Topic1\", \"Topic1\", \"Topic1\", \"Topic1\", \"Topic1\", \"Topic1\", \"Topic1\", \"Topic1\", \"Topic1\", \"Topic1\", \"Topic1\", \"Topic1\", \"Topic1\", \"Topic1\", \"Topic1\", \"Topic1\", \"Topic1\", \"Topic1\", \"Topic1\", \"Topic1\", \"Topic1\", \"Topic1\", \"Topic1\", \"Topic1\", \"Topic1\", \"Topic2\", \"Topic2\", \"Topic2\", \"Topic2\", \"Topic2\", \"Topic2\", \"Topic2\", \"Topic2\", \"Topic2\", \"Topic2\", \"Topic2\", \"Topic2\", \"Topic2\", \"Topic2\", \"Topic2\", \"Topic2\", \"Topic2\", \"Topic2\", \"Topic2\", \"Topic2\", \"Topic2\", \"Topic2\", \"Topic2\", \"Topic2\", \"Topic2\", \"Topic2\", \"Topic2\", \"Topic2\", \"Topic2\", \"Topic2\", \"Topic2\", \"Topic2\", \"Topic2\", \"Topic2\", \"Topic2\", \"Topic2\", \"Topic2\", \"Topic2\", \"Topic2\", \"Topic2\", \"Topic2\", \"Topic2\", \"Topic2\", \"Topic2\", \"Topic2\", \"Topic3\", \"Topic3\", \"Topic3\", \"Topic3\", \"Topic3\", \"Topic3\", \"Topic3\", \"Topic3\", \"Topic3\", \"Topic3\", \"Topic3\", \"Topic3\", \"Topic3\", \"Topic3\", \"Topic3\", \"Topic3\", \"Topic3\", \"Topic3\", \"Topic3\", \"Topic3\", \"Topic3\", \"Topic3\", \"Topic3\", \"Topic3\", \"Topic3\", \"Topic3\", \"Topic3\", \"Topic3\", \"Topic3\", \"Topic3\", \"Topic3\", \"Topic3\", \"Topic3\", \"Topic3\", \"Topic3\", \"Topic3\", \"Topic3\", \"Topic3\", \"Topic3\", \"Topic4\", \"Topic4\", \"Topic4\", \"Topic4\", \"Topic4\", \"Topic4\", \"Topic4\", \"Topic4\", \"Topic4\", \"Topic4\", \"Topic4\", \"Topic4\", \"Topic4\", \"Topic4\", \"Topic4\", \"Topic4\", \"Topic4\", \"Topic4\", \"Topic4\", \"Topic4\", \"Topic4\", \"Topic4\", \"Topic4\", \"Topic4\", \"Topic4\", \"Topic4\", \"Topic4\", \"Topic4\", \"Topic4\", \"Topic4\", \"Topic4\", \"Topic4\", \"Topic4\", \"Topic4\", \"Topic4\", \"Topic4\", \"Topic4\", \"Topic4\", \"Topic4\", \"Topic4\", \"Topic4\", \"Topic4\"], \"logprob\": [30.0, 29.0, 28.0, 27.0, 26.0, 25.0, 24.0, 23.0, 22.0, 21.0, 20.0, 19.0, 18.0, 17.0, 16.0, 15.0, 14.0, 13.0, 12.0, 11.0, 10.0, 9.0, 8.0, 7.0, 6.0, 5.0, 4.0, 3.0, 2.0, 1.0, -4.3569, -4.5768, -4.6486, -4.8971, -4.9321, -5.0174, -5.0332, -5.0759, -4.9891, -5.1061, -5.1341, -5.2315, -5.2634, -5.2657, -5.3133, -5.296, -5.3391, -5.376, -5.4364, -5.4422, -5.3983, -5.4766, -5.3969, -5.4134, -5.5014, -5.4377, -5.32, -5.4353, -5.5471, -5.5625, -5.5044, -5.5326, -5.5297, -5.1076, -4.7781, -4.8843, -4.8255, -5.1364, -5.2306, -5.3279, -5.0758, -5.3771, -4.4, -4.7577, -4.7856, -4.8888, -4.9473, -5.0285, -5.2251, -5.2041, -5.1705, -5.2739, -5.2924, -5.2332, -5.1882, -5.2366, -5.3653, -5.3758, -5.4277, -5.4549, -5.5018, -5.4534, -5.5251, -5.4694, -5.482, -5.59, -5.5906, -5.6052, -5.4619, -5.4996, -5.6608, -5.6558, -5.0988, -5.4672, -5.4988, -5.4862, -5.5676, -4.5424, -4.9961, -5.3538, -5.2923, -5.4041, -5.3826, -5.421, -5.4153, -5.439, -5.4413, -4.4102, -4.4601, -4.5518, -4.6738, -4.8376, -4.9426, -4.9391, -5.0091, -5.0824, -5.1197, -5.159, -5.1936, -5.2136, -5.2402, -5.3004, -5.3052, -5.3703, -5.405, -5.4036, -5.4555, -5.374, -5.4695, -5.4609, -5.4803, -5.5327, -5.4936, -5.5722, -5.5314, -5.5447, -5.5086, -5.4878, -5.5106, -5.5038, -5.5142, -4.6734, -5.2778, -4.7275, -5.1304, -5.3768, -4.1258, -4.7369, -4.7414, -4.8037, -4.8402, -4.9319, -5.0085, -5.1456, -5.2545, -5.2485, -5.3091, -5.3556, -5.3053, -5.3815, -5.3169, -5.431, -5.3845, -5.5107, -5.2615, -5.5374, -5.5331, -5.5481, -5.4954, -5.6704, -5.6733, -5.727, -5.743, -5.7637, -5.774, -5.7709, -5.395, -5.4074, -5.4436, -5.476, -5.5159, -4.8154, -5.1417, -4.9938, -4.8479, -5.0842, -5.3216, -5.4396], \"loglift\": [30.0, 29.0, 28.0, 27.0, 26.0, 25.0, 24.0, 23.0, 22.0, 21.0, 20.0, 19.0, 18.0, 17.0, 16.0, 15.0, 14.0, 13.0, 12.0, 11.0, 10.0, 9.0, 8.0, 7.0, 6.0, 5.0, 4.0, 3.0, 2.0, 1.0, 1.311, 1.3108, 1.3104, 1.3097, 1.3096, 1.3094, 1.3092, 1.3091, 1.309, 1.3089, 1.3088, 1.3085, 1.3083, 1.3081, 1.3081, 1.3081, 1.3079, 1.3077, 1.3074, 1.3073, 1.3072, 1.3072, 1.3072, 1.307, 1.307, 1.307, 1.3069, 1.3068, 1.3068, 1.3065, 1.3063, 1.306, 1.3052, 1.1067, 0.9216, 0.8775, 0.6213, 0.6044, 0.7683, 0.9926, -0.0861, 1.0303, 1.3193, 1.3185, 1.3184, 1.3181, 1.3179, 1.3175, 1.3167, 1.3166, 1.3166, 1.3165, 1.3163, 1.3163, 1.3163, 1.3162, 1.316, 1.3158, 1.3156, 1.3155, 1.3152, 1.3152, 1.315, 1.315, 1.3148, 1.3146, 1.3146, 1.3145, 1.3144, 1.3142, 1.3142, 1.3141, 1.3131, 1.3136, 1.3134, 1.3128, 1.3116, 0.4473, 0.6377, 0.9889, 0.833, 1.0321, 0.8826, 1.0331, 0.95, 0.9863, 0.8927, 1.4281, 1.428, 1.4275, 1.4274, 1.4268, 1.4263, 1.4263, 1.4262, 1.4258, 1.4256, 1.4254, 1.4252, 1.4251, 1.425, 1.4247, 1.4245, 1.4241, 1.4239, 1.4238, 1.4236, 1.4234, 1.4232, 1.4232, 1.4232, 1.4231, 1.423, 1.4229, 1.4229, 1.4229, 1.4229, 1.4226, 1.4227, 1.4223, 1.4208, 0.9109, 1.2444, 0.2622, 0.8579, 0.7949, 1.4891, 1.4875, 1.4875, 1.487, 1.487, 1.4867, 1.4862, 1.4859, 1.4853, 1.4853, 1.4849, 1.4847, 1.4847, 1.4845, 1.4844, 1.4843, 1.4843, 1.4837, 1.4836, 1.4834, 1.4833, 1.4832, 1.4829, 1.4824, 1.4821, 1.4817, 1.4816, 1.4814, 1.4813, 1.4812, 1.4807, 1.4807, 1.4796, 1.4782, 1.4706, 1.285, 1.3066, 1.2397, 0.7859, 1.0223, 0.2627, 0.7321]}, \"token.table\": {\"Topic\": [4, 3, 3, 1, 3, 3, 4, 1, 3, 4, 1, 4, 4, 4, 4, 3, 3, 3, 2, 4, 4, 1, 2, 3, 1, 1, 2, 1, 4, 2, 1, 1, 2, 1, 3, 2, 4, 1, 3, 4, 2, 2, 4, 4, 1, 1, 1, 2, 1, 2, 4, 2, 2, 2, 4, 2, 1, 1, 4, 1, 2, 1, 4, 2, 3, 2, 3, 1, 1, 2, 4, 1, 1, 2, 4, 1, 2, 3, 2, 1, 2, 3, 2, 4, 3, 1, 2, 3, 4, 4, 1, 4, 3, 4, 4, 3, 3, 3, 3, 4, 2, 3, 4, 3, 4, 2, 3, 1, 2, 2, 2, 3, 1, 3, 1, 2, 3, 4, 4, 1, 3, 3, 1, 2, 3, 4, 4, 2, 4, 2, 1, 2, 3, 4, 1, 2, 3, 4, 3, 2, 4, 1, 2, 2, 1, 4, 4, 2, 2, 3, 2, 2, 4, 1, 2, 3, 4, 1, 2, 3, 1, 1, 3, 3, 3, 4, 3, 2, 4, 2, 3, 2, 3, 2, 4, 1, 3, 2, 3, 1, 2, 3, 1, 1, 2, 4, 3, 2, 3, 4, 1, 3, 4, 1, 2, 1, 2, 1, 2, 2, 2, 4, 2], \"Freq\": [0.991856963091717, 0.9929871194987244, 0.9905765127038185, 0.9981576874249755, 0.9900027981143885, 0.18259926203013546, 0.8130014761817935, 0.9944594091947411, 0.9976489854988528, 0.994237004467202, 0.9972697313625078, 0.9980882134821474, 0.9903399034564373, 0.9877202468346424, 0.9931454762967432, 0.9900613159925744, 0.9945069653848504, 0.9921175989972203, 0.504381760756631, 0.4934762091727038, 0.9982396495674912, 0.7564856212716523, 0.24231180056357612, 0.9985203089824995, 0.9953379425129971, 0.9913651345164609, 0.9928574860913807, 0.9902460872408927, 0.9941323411003604, 0.993778773171857, 0.9918940970270401, 0.9979915541558846, 0.9903778675036677, 0.4353080581978773, 0.5635684682026091, 0.21851280869309214, 0.7796934310185333, 0.9962302857458268, 0.9942268788827637, 0.9909690467178314, 0.9970543810408812, 0.9946415624340139, 0.9970737144107819, 0.997125720941985, 0.990754563955222, 0.9928228236320898, 0.9914365134137353, 0.996422427059625, 0.8136240483461374, 0.1851360110009175, 0.9910396806007787, 0.9959430528952945, 0.9972631592482448, 0.9879423255227863, 0.9902508758062826, 0.9930343103326571, 0.9960513355440163, 0.7260372752563562, 0.27090943106580456, 0.9941472991741421, 0.9944526347875439, 0.9968246223233719, 0.9934766442380718, 0.9922773028137125, 0.9881256747710889, 0.9922138835235504, 0.9931899405672124, 0.9965022396610314, 0.30597649769699686, 0.6912802355376595, 0.9936384923169878, 0.9965090557802065, 0.6756484431691897, 0.3232628327231899, 0.9936406674589601, 0.9955068938956441, 0.7481534107805474, 0.24938447026018248, 0.9945002730491258, 0.3744027143778858, 0.6150901736208124, 0.008914350342330615, 0.653527752902683, 0.3459852809484792, 0.9934602747544118, 0.9972122126218622, 0.9913743409513182, 0.9964740364874911, 0.9963122987538694, 0.9911100390926395, 0.9974276069245308, 0.9902145539519152, 0.37178452668122036, 0.6254727919460531, 0.993949537317547, 0.9968517553350301, 0.9973934333355478, 0.9979981061449275, 0.9927520199102609, 0.9898468112454576, 0.11157918768881654, 0.5942240460636974, 0.29321972578689, 0.9935691287519746, 0.9986864448631035, 0.16572974803309815, 0.8286487401654906, 0.9910995042670542, 0.9979007186482842, 0.9917388654288137, 0.7159984353579325, 0.28278929799851116, 0.9901523225257219, 0.9966312130980727, 0.49979108496219044, 0.1718738572720655, 0.12212089858804653, 0.20579632910207843, 0.9931831637636178, 0.9877273644650602, 0.9894261441428595, 0.9971602643772122, 0.010545664776955824, 0.010545664776955824, 0.010545664776955824, 0.9807468242568917, 0.9864812368813071, 0.16623429277682425, 0.8311714638841212, 0.9979250934960722, 0.6476261033766021, 0.353250601841783, 0.9889714733275713, 0.9964237316325062, 0.24627061503514933, 0.4166555172978399, 0.310701880596671, 0.02577250622460865, 0.992091218453455, 0.9914173893694255, 0.005936631074068416, 0.998671036173074, 0.9972513483141926, 0.9911423059630149, 0.9936803740263979, 0.9979149609267427, 0.9931630593012896, 0.9957069673023138, 0.9936246616076241, 0.9950054975888252, 0.9962112842644151, 0.9919718006791132, 0.9885228441184729, 0.49159338009108966, 0.2640038522711407, 0.11834655446637343, 0.1274501355791714, 0.992741835279038, 0.99407658327015, 0.9892786226329736, 0.9939710827691287, 0.9939493569183266, 0.9946677518715256, 0.9900309782886577, 0.009557067135703316, 0.9939349821131448, 0.9915771388476324, 0.9923003446885732, 0.9888501392831958, 0.9974078279893848, 0.9952502425349673, 0.9946215234061732, 0.9909006507132541, 0.010209967158388043, 0.99036681436364, 0.9980684304648708, 0.9968957625266205, 0.6459841091953582, 0.353753202654601, 0.9939399746339349, 0.9938291323122388, 0.9906393416331087, 0.9936424909263932, 0.24769516366160219, 0.7492778700763466, 0.9926380597734716, 0.9937292187951937, 0.9908316074355259, 0.9952978827120775, 0.998136165413199, 0.9977965174591412, 0.5275730582350574, 0.4668788125973959, 0.5813152210179988, 0.4163473880264046, 0.9960573000977992, 0.994872896549236, 0.28252558832159685, 0.7146235469310979, 0.9948598047537867, 0.9947794547089754, 0.9917061136574113, 0.9963722482686312], \"Term\": [\"abc\", \"accus\", \"appoint\", \"approv\", \"arm\", \"attack\", \"attack\", \"aussi\", \"australian\", \"back\", \"ban\", \"begin\", \"bid\", \"big\", \"blaze\", \"board\", \"bu\", \"busi\", \"call\", \"call\", \"car\", \"chang\", \"chang\", \"charg\", \"citi\", \"claim\", \"club\", \"coast\", \"collaps\", \"commun\", \"concern\", \"council\", \"countri\", \"court\", \"court\", \"crash\", \"crash\", \"cut\", \"day\", \"dead\", \"debat\", \"debt\", \"deni\", \"die\", \"disput\", \"doctor\", \"draw\", \"drought\", \"drug\", \"drug\", \"drum\", \"econom\", \"elect\", \"eye\", \"fail\", \"fall\", \"farmer\", \"fear\", \"fear\", \"figur\", \"final\", \"forc\", \"former\", \"found\", \"fourth\", \"friday\", \"full\", \"fund\", \"futur\", \"futur\", \"garrett\", \"govern\", \"govt\", \"govt\", \"great\", \"group\", \"health\", \"health\", \"held\", \"help\", \"help\", \"help\", \"hit\", \"hit\", \"hope\", \"hospit\", \"injuri\", \"interview\", \"iraq\", \"italian\", \"job\", \"judg\", \"kill\", \"kill\", \"labor\", \"latest\", \"lead\", \"leav\", \"line\", \"lock\", \"man\", \"man\", \"man\", \"market\", \"may\", \"melbourn\", \"melbourn\", \"men\", \"mine\", \"minist\", \"miss\", \"miss\", \"mp\", \"murder\", \"new\", \"new\", \"new\", \"new\", \"news\", \"next\", \"olymp\", \"open\", \"paint\", \"paint\", \"paint\", \"paint\", \"pakistan\", \"pay\", \"pay\", \"perth\", \"plan\", \"plan\", \"point\", \"pole\", \"polic\", \"polic\", \"polic\", \"polic\", \"pull\", \"qld\", \"qld\", \"question\", \"rate\", \"record\", \"reduc\", \"report\", \"resid\", \"review\", \"rise\", \"risk\", \"road\", \"run\", \"rural\", \"say\", \"say\", \"say\", \"say\", \"school\", \"search\", \"second\", \"seek\", \"set\", \"shoot\", \"sieg\", \"singapor\", \"singapor\", \"sold\", \"stage\", \"state\", \"station\", \"stori\", \"student\", \"success\", \"sunday\", \"sunday\", \"support\", \"sydney\", \"take\", \"take\", \"team\", \"telstra\", \"test\", \"titl\", \"trade\", \"trade\", \"train\", \"trial\", \"turnbul\", \"two\", \"union\", \"urg\", \"us\", \"us\", \"wa\", \"wa\", \"want\", \"warn\", \"water\", \"water\", \"win\", \"woman\", \"work\", \"world\"]}, \"R\": 30, \"lambda.step\": 0.01, \"plot.opts\": {\"xlab\": \"PC1\", \"ylab\": \"PC2\"}, \"topic.order\": [3, 2, 4, 1]};\n",
       "\n",
       "function LDAvis_load_lib(url, callback){\n",
       "  var s = document.createElement('script');\n",
       "  s.src = url;\n",
       "  s.async = true;\n",
       "  s.onreadystatechange = s.onload = callback;\n",
       "  s.onerror = function(){console.warn(\"failed to load library \" + url);};\n",
       "  document.getElementsByTagName(\"head\")[0].appendChild(s);\n",
       "}\n",
       "\n",
       "if(typeof(LDAvis) !== \"undefined\"){\n",
       "   // already loaded: just create the visualization\n",
       "   !function(LDAvis){\n",
       "       new LDAvis(\"#\" + \"ldavis_el3298026741232990082119748415\", ldavis_el3298026741232990082119748415_data);\n",
       "   }(LDAvis);\n",
       "}else if(typeof define === \"function\" && define.amd){\n",
       "   // require.js is available: use it to load d3/LDAvis\n",
       "   require.config({paths: {d3: \"https://d3js.org/d3.v5\"}});\n",
       "   require([\"d3\"], function(d3){\n",
       "      window.d3 = d3;\n",
       "      LDAvis_load_lib(\"https://cdn.jsdelivr.net/gh/bmabey/pyLDAvis@3.4.0/pyLDAvis/js/ldavis.v3.0.0.js\", function(){\n",
       "        new LDAvis(\"#\" + \"ldavis_el3298026741232990082119748415\", ldavis_el3298026741232990082119748415_data);\n",
       "      });\n",
       "    });\n",
       "}else{\n",
       "    // require.js not available: dynamically load d3 & LDAvis\n",
       "    LDAvis_load_lib(\"https://d3js.org/d3.v5.js\", function(){\n",
       "         LDAvis_load_lib(\"https://cdn.jsdelivr.net/gh/bmabey/pyLDAvis@3.4.0/pyLDAvis/js/ldavis.v3.0.0.js\", function(){\n",
       "                 new LDAvis(\"#\" + \"ldavis_el3298026741232990082119748415\", ldavis_el3298026741232990082119748415_data);\n",
       "            })\n",
       "         });\n",
       "}\n",
       "</script>"
      ],
      "text/plain": [
       "PreparedData(topic_coordinates=              x         y  topics  cluster       Freq\n",
       "topic                                                \n",
       "2     -0.228494 -0.028623       1        1  26.894908\n",
       "1     -0.149627 -0.010719       2        1  26.672351\n",
       "3      0.219569 -0.235701       3        1  23.918297\n",
       "0      0.158552  0.275042       4        1  22.514443, topic_info=          Term        Freq       Total Category  logprob  loglift\n",
       "1133    report  373.000000  373.000000  Default  30.0000  30.0000\n",
       "647   question  354.000000  354.000000  Default  29.0000  29.0000\n",
       "1043      mine  336.000000  336.000000  Default  28.0000  28.0000\n",
       "886     sydney  298.000000  298.000000  Default  27.0000  27.0000\n",
       "86       charg  284.000000  284.000000  Default  26.0000  26.0000\n",
       "...        ...         ...         ...      ...      ...      ...\n",
       "0        crash  156.609614  201.361194   Topic4  -4.9938   1.2397\n",
       "177       call  181.207338  366.785666   Topic4  -4.8479   0.7859\n",
       "688       kill  143.072477  228.627051   Topic4  -5.0842   1.0223\n",
       "139        man  112.837524  385.376528   Topic4  -5.3216   0.2627\n",
       "124         us  100.275759  214.188345   Topic4  -5.4396   0.7321\n",
       "\n",
       "[198 rows x 6 columns], token_table=      Topic      Freq     Term\n",
       "term                          \n",
       "496       4  0.991857      abc\n",
       "101       3  0.992987    accus\n",
       "833       3  0.990577  appoint\n",
       "68        1  0.998158   approv\n",
       "1411      3  0.990003      arm\n",
       "...     ...       ...      ...\n",
       "600       2  0.714624    water\n",
       "500       2  0.994860      win\n",
       "241       2  0.994779    woman\n",
       "279       4  0.991706     work\n",
       "151       2  0.996372    world\n",
       "\n",
       "[203 rows x 3 columns], R=30, lambda_step=0.01, plot_opts={'xlab': 'PC1', 'ylab': 'PC2'}, topic_order=[3, 2, 4, 1])"
      ]
     },
     "execution_count": 36,
     "metadata": {},
     "output_type": "execute_result"
    }
   ],
   "source": [
    "# TODO: show visualization results of the LDA\n",
    "import pyLDAvis\n",
    "import pyLDAvis.gensim\n",
    "\n",
    "pyLDAvis.enable_notebook()\n",
    "\n",
    "vis = pyLDAvis.gensim.prepare(lda, corpus, dictionary)\n",
    "vis"
   ]
  },
  {
   "cell_type": "markdown",
   "metadata": {},
   "source": [
    "Depending on your results, you can try to fine tune the algorithm: number of topics, hyperparameters...\n",
    "And check with others their results."
   ]
  }
 ],
 "metadata": {
  "kernelspec": {
   "display_name": "Python 3 (ipykernel)",
   "language": "python",
   "name": "python3"
  },
  "language_info": {
   "codemirror_mode": {
    "name": "ipython",
    "version": 3
   },
   "file_extension": ".py",
   "mimetype": "text/x-python",
   "name": "python",
   "nbconvert_exporter": "python",
   "pygments_lexer": "ipython3",
   "version": "3.11.3"
  },
  "toc": {
   "base_numbering": 1,
   "nav_menu": {},
   "number_sections": true,
   "sideBar": true,
   "skip_h1_title": false,
   "title_cell": "Table of Contents",
   "title_sidebar": "Contents",
   "toc_cell": false,
   "toc_position": {},
   "toc_section_display": true,
   "toc_window_display": false
  }
 },
 "nbformat": 4,
 "nbformat_minor": 2
}
